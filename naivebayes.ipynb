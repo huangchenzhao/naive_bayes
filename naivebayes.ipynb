{
 "cells": [
  {
   "cell_type": "code",
   "execution_count": 1,
   "id": "26a9081c",
   "metadata": {
    "execution": {
     "iopub.execute_input": "2021-11-22T04:29:02.293093Z",
     "iopub.status.busy": "2021-11-22T04:29:02.291889Z",
     "iopub.status.idle": "2021-11-22T04:29:04.292468Z",
     "shell.execute_reply": "2021-11-22T04:29:04.291266Z",
     "shell.execute_reply.started": "2021-11-22T04:28:18.070502Z"
    },
    "papermill": {
     "duration": 2.010736,
     "end_time": "2021-11-22T04:29:04.292662",
     "exception": false,
     "start_time": "2021-11-22T04:29:02.281926",
     "status": "completed"
    },
    "tags": []
   },
   "outputs": [],
   "source": [
    "import pandas as pd\n",
    "import numpy as np\n",
    "import jieba\n",
    "from sklearn.model_selection import KFold\n",
    "from sklearn.feature_extraction.text import CountVectorizer\n",
    "from sklearn.metrics import accuracy_score\n",
    "from sklearn.metrics import precision_score\n",
    "from sklearn.metrics import recall_score\n",
    "from sklearn.metrics import f1_score\n",
    "train = pd.read_csv(\"../input/mydata/cnews.train.txt\", sep='\\t', names=['label', 'content'])\n",
    "x = train['content']\n",
    "y = train['label']"
   ]
  },
  {
   "cell_type": "code",
   "execution_count": 2,
   "id": "e4a55081",
   "metadata": {
    "execution": {
     "iopub.execute_input": "2021-11-22T04:29:04.311768Z",
     "iopub.status.busy": "2021-11-22T04:29:04.310860Z",
     "iopub.status.idle": "2021-11-22T04:29:04.324234Z",
     "shell.execute_reply": "2021-11-22T04:29:04.323613Z",
     "shell.execute_reply.started": "2021-11-22T04:28:18.506149Z"
    },
    "papermill": {
     "duration": 0.024916,
     "end_time": "2021-11-22T04:29:04.324378",
     "exception": false,
     "start_time": "2021-11-22T04:29:04.299462",
     "status": "completed"
    },
    "tags": []
   },
   "outputs": [],
   "source": [
    "#中文分词\n",
    "def cut_content(data):\n",
    "    words = data.apply(lambda x: ' '.join(jieba.cut(x)))\n",
    "    return words\n",
    "# 加载停用词表\n",
    "stopwords_file = open('../input/myvocab/cnews.vocab.txt', encoding='utf-8')  \n",
    "stopwords_list = stopwords_file.readlines()\n",
    "stopwords = [x.strip() for x in stopwords_list]"
   ]
  },
  {
   "cell_type": "code",
   "execution_count": 3,
   "id": "ce2ccaec",
   "metadata": {
    "execution": {
     "iopub.execute_input": "2021-11-22T04:29:04.341033Z",
     "iopub.status.busy": "2021-11-22T04:29:04.339972Z",
     "iopub.status.idle": "2021-11-22T04:29:04.342057Z",
     "shell.execute_reply": "2021-11-22T04:29:04.342529Z",
     "shell.execute_reply.started": "2021-11-22T04:28:18.520316Z"
    },
    "papermill": {
     "duration": 0.013302,
     "end_time": "2021-11-22T04:29:04.342692",
     "exception": false,
     "start_time": "2021-11-22T04:29:04.329390",
     "status": "completed"
    },
    "tags": []
   },
   "outputs": [],
   "source": [
    "accuracy=np.zeros(10)\n",
    "precision_macro=np.zeros(10)\n",
    "precision_micro=np.zeros(10)\n",
    "recall_macro=np.zeros(10)\n",
    "recall_micro=np.zeros(10)\n",
    "f1_macro=np.zeros(10)\n",
    "f1_micro=np.zeros(10)"
   ]
  },
  {
   "cell_type": "code",
   "execution_count": 4,
   "id": "07bc2da6",
   "metadata": {
    "execution": {
     "iopub.execute_input": "2021-11-22T04:29:04.357607Z",
     "iopub.status.busy": "2021-11-22T04:29:04.356579Z",
     "iopub.status.idle": "2021-11-22T04:46:35.273331Z",
     "shell.execute_reply": "2021-11-22T04:46:35.273902Z"
    },
    "papermill": {
     "duration": 1050.925486,
     "end_time": "2021-11-22T04:46:35.274091",
     "exception": false,
     "start_time": "2021-11-22T04:29:04.348605",
     "status": "completed"
    },
    "tags": []
   },
   "outputs": [
    {
     "name": "stderr",
     "output_type": "stream",
     "text": [
      "Building prefix dict from the default dictionary ...\n",
      "Dumping model to file cache /tmp/jieba.cache\n",
      "Loading model cost 1.273 seconds.\n",
      "Prefix dict has been built successfully.\n",
      "/opt/conda/lib/python3.7/site-packages/sklearn/feature_extraction/text.py:386: UserWarning: Your stop_words may be inconsistent with your preprocessing. Tokenizing the stop words generated tokens ['pad'] not in stop_words.\n",
      "  'stop_words.' % sorted(inconsistent))\n"
     ]
    },
    {
     "name": "stdout",
     "output_type": "stream",
     "text": [
      "0.9404999999999999 \n",
      "\n",
      "0.9420940088592461 \n",
      "\n",
      "0.9404999999999999 \n",
      "\n",
      "0.9405950968224575 \n",
      "\n",
      "0.9404999999999999 \n",
      "\n",
      "0.940564755481272 \n",
      "\n",
      "0.9404999999999999 \n",
      "\n"
     ]
    }
   ],
   "source": [
    "kf = KFold(n_splits=10,shuffle=True,random_state=2021)\n",
    "j=0\n",
    "for train_index, test_index in kf.split(x):\n",
    "    x_train, x_test = x[train_index], x[test_index]\n",
    "    y_train, y_test = y[train_index], y[test_index]\n",
    "    x_train_cut = cut_content(x_train)\n",
    "    cv = CountVectorizer(stop_words=stopwords, max_features=5000)\n",
    "    cv_fit = cv.fit_transform(x_train_cut)\n",
    "    train_matrix=cv_fit.toarray()\n",
    "    label=['体育', '娱乐', '家居', '房产', '教育', '时尚', '时政', '游戏', '科技', '财经']\n",
    "    p=np.ones((10,len(train_matrix[0])))\n",
    "    pSum=np.ones(10)*2\n",
    "    for i in range(len(train_matrix)):\n",
    "        p[label.index(y_train.iloc[i])]+=train_matrix[i]\n",
    "        pSum[label.index(y_train.iloc[i])]+=sum(train_matrix[i])\n",
    "    for i in range(10):\n",
    "        p[i]=np.log(p[i]/pSum[i])\n",
    "    dict=cv.vocabulary_\n",
    "    true_label=[]\n",
    "    predict_label=[]\n",
    "    for i in range(len(x_test)):\n",
    "        x_test_cut = jieba.lcut(x_test.iloc[i])\n",
    "        vector=np.zeros(len(dict))\n",
    "        for each in x_test_cut:\n",
    "            if each in dict:\n",
    "                vector[dict[each]]=1\n",
    "        pp=np.zeros(10)\n",
    "        for ii in range(10):\n",
    "            pp[ii]=sum(vector*p[ii])+np.log(0.1)\n",
    "        pp=list(pp)\n",
    "        true_label.append(y_test.iloc[i])\n",
    "        predict_label.append(label[pp.index(max(pp))])\n",
    "    accuracy[j]=accuracy_score(true_label, predict_label)\n",
    "    precision_macro[j]=precision_score(true_label, predict_label, average='macro')\n",
    "    precision_micro[j]=precision_score(true_label, predict_label, average='micro')\n",
    "    recall_macro[j]=recall_score(true_label, predict_label, average='macro')\n",
    "    recall_micro[j]=recall_score(true_label, predict_label, average='micro')\n",
    "    f1_macro[j]=f1_score(true_label, predict_label, average='macro')\n",
    "    f1_micro[j]=f1_score(true_label, predict_label, average='micro')\n",
    "    j=j+1\n",
    "print(sum(accuracy)/10,'\\n')\n",
    "print(sum(precision_macro)/10,'\\n')\n",
    "print(sum(precision_micro)/10,'\\n')\n",
    "print(sum(recall_macro)/10,'\\n')\n",
    "print(sum(recall_micro)/10,'\\n')\n",
    "print(sum(f1_macro)/10,'\\n')\n",
    "print(sum(f1_micro)/10,'\\n')"
   ]
  }
 ],
 "metadata": {
  "kernelspec": {
   "display_name": "Python 3",
   "language": "python",
   "name": "python3"
  },
  "language_info": {
   "codemirror_mode": {
    "name": "ipython",
    "version": 3
   },
   "file_extension": ".py",
   "mimetype": "text/x-python",
   "name": "python",
   "nbconvert_exporter": "python",
   "pygments_lexer": "ipython3",
   "version": "3.7.10"
  },
  "papermill": {
   "default_parameters": {},
   "duration": 1063.632749,
   "end_time": "2021-11-22T04:46:35.994788",
   "environment_variables": {},
   "exception": null,
   "input_path": "__notebook__.ipynb",
   "output_path": "__notebook__.ipynb",
   "parameters": {},
   "start_time": "2021-11-22T04:28:52.362039",
   "version": "2.3.3"
  }
 },
 "nbformat": 4,
 "nbformat_minor": 5
}
